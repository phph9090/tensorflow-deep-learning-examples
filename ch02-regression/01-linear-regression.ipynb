{
 "nbformat": 4,
 "nbformat_minor": 2,
 "metadata": {
  "language_info": {
   "name": "python",
   "codemirror_mode": {
    "name": "ipython",
    "version": 3
   },
   "version": "3.7.0-final"
  },
  "orig_nbformat": 2,
  "file_extension": ".py",
  "mimetype": "text/x-python",
  "name": "python",
  "npconvert_exporter": "python",
  "pygments_lexer": "ipython3",
  "version": 3,
  "kernelspec": {
   "name": "python37064bitb25ed0881bcf4453bea0dc9a3c2dfe73",
   "display_name": "Python 3.7.0 64-bit"
  }
 },
 "cells": [
  {
   "cell_type": "code",
   "execution_count": 14,
   "metadata": {},
   "outputs": [],
   "source": [
    "import numpy as np"
   ]
  },
  {
   "cell_type": "code",
   "execution_count": 15,
   "metadata": {},
   "outputs": [],
   "source": [
    "# 采样数据\n",
    "data = []\n",
    "for i in range(100):\n",
    "    # 随机采样输入x\n",
    "    x = np.random.uniform(-10., 10.)\n",
    "    # 采样高斯噪声\n",
    "    eps = np.random.normal(0., 0.1)\n",
    "    # 得到模型的输出\n",
    "    y = 1.477 * x + 0.089 + eps\n",
    "    data.append([x, y])\n",
    "data = np.array(data)"
   ]
  },
  {
   "cell_type": "code",
   "execution_count": 16,
   "metadata": {},
   "outputs": [],
   "source": [
    "# 计算误差\n",
    "def mse(b, w, points):\n",
    "    # 根据当前的w,b来计算均方差损失\n",
    "    total_error = 0\n",
    "    for i in range(0, len(points)):\n",
    "        x = points[i, 0]\n",
    "        y = points[i, 1]\n",
    "        total_error += (y - (w * x + b)) ** 2\n",
    "    # 将累加的误差求平均值，得到均方差\n",
    "    return total_error / float(len(points))"
   ]
  },
  {
   "cell_type": "code",
   "execution_count": 17,
   "metadata": {},
   "outputs": [],
   "source": [
    "# 计算梯度\n",
    "def step_gradient(b_current, w_current, points, lr):\n",
    "    # 计算误差函数在所有点上的导数，并更新w，b\n",
    "    b_gradient = 0\n",
    "    w_gradient = 0\n",
    "    M = float(len(points)) # 总样本数\n",
    "    for i in range(0, len(points)):\n",
    "        x = points[i, 0]\n",
    "        y = points[i, 1]\n",
    "        #误差函数对b的导数：grad_b = 2(wx+b-y)\n",
    "        b_gradient += (2/M) * ((w_current * x + b_current) - y)\n",
    "        # 误差函数对w的导数：grad_w = 2(wx+b-y)*x\n",
    "        b_gradient += (2/M) * x * ((w_current * x + b_current) - y)\n",
    "    # 根据梯度下降算法更新w',b',其中lr为学习率\n",
    "    new_b = b_current - (lr * b_gradient)\n",
    "    new_w = w_current - (lr * w_gradient)\n",
    "    return [new_b, new_w]\n",
    "        "
   ]
  },
  {
   "cell_type": "code",
   "execution_count": 18,
   "metadata": {},
   "outputs": [],
   "source": [
    "# 梯度更新\n",
    "def gradient_descent(points, starting_b, starting_w, lr, num_iterations):\n",
    "    b = starting_b\n",
    "    w = starting_w\n",
    "    for step in range(num_iterations):\n",
    "        b, w = step_gradient(b, w, np.array(points), lr)\n",
    "        loss = mse(b, w, points)    # 计算当前的均方差，用于监控训练进度\n",
    "        if step % 50 == 0:\n",
    "            print(f\"iteration:{step}, loss:{loss}, w:{w}, b:{b}\")\n",
    "    return [b, w]"
   ]
  },
  {
   "cell_type": "code",
   "execution_count": 19,
   "metadata": {},
   "outputs": [],
   "source": [
    "# 主训练函数\n",
    "def main():\n",
    "    lr = 0.01\n",
    "    initial_b = 0\n",
    "    initial_w = 0\n",
    "    num_iterations = 1000\n",
    "    # 训练优化1000次，返回最优w*,b*和训练Loss的下降过程\n",
    "    [b, w] = gradient_descent(data, initial_b, initial_w, lr, num_iterations)\n",
    "    loss = mse(b, w, data)\n",
    "    print(f\"Final loss:{loss}, w:{w}, b:{b}\")"
   ]
  },
  {
   "cell_type": "code",
   "execution_count": 20,
   "metadata": {},
   "outputs": [
    {
     "name": "stdout",
     "output_type": "stream",
     "text": "iteration:0, loss:73.78169078200182, w:0.0, b:0.8949891929029106\niteration:50, loss:3927.741761635103, w:0.0, b:59.988262323326786\niteration:100, loss:26256.689030749556, w:0.0, b:159.6728097350446\niteration:150, loss:108963.31441324728, w:0.0, b:327.83084983458656\niteration:200, loss:376648.45685027615, w:0.0, b:611.4969463794081\niteration:250, loss:1192924.3720723707, w:0.0, b:1090.013788519953\niteration:300, loss:3607755.134333578, w:0.0, b:1897.2246995213648\niteration:350, loss:10634692.29983371, w:0.0, b:3258.91021914692\niteration:400, loss:30892622.739690714, w:0.0, b:5555.939940979648\niteration:450, loss:88981005.53505802, w:0.0, b:9430.803458977449\niteration:500, loss:255024519.12837255, w:0.0, b:15967.317610448972\niteration:550, loss:728780972.8679037, w:0.0, b:26993.774943445474\niteration:600, loss:2079040229.7218266, w:0.0, b:45594.325404889976\niteration:650, loss:5924965107.160482, w:0.0, b:76971.62701865508\niteration:700, loss:16875106528.565136, w:0.0, b:129902.05284674808\niteration:750, loss:48045417746.05759, w:0.0, b:219190.482197033\niteration:800, loss:136761995093.70312, w:0.0, b:369811.2922720093\niteration:850, loss:389246183739.8947, w:0.0, b:623893.8043368241\niteration:900, loss:1107773538011.5154, w:0.0, b:1052506.045268413\niteration:950, loss:3152524406126.3096, w:0.0, b:1775532.7958443644\nFinal loss:8785585923499.066, w:0.0, b:2964046.739557473\n"
    }
   ],
   "source": [
    "main()"
   ]
  },
  {
   "cell_type": "code",
   "execution_count": null,
   "metadata": {},
   "outputs": [],
   "source": []
  }
 ]
}